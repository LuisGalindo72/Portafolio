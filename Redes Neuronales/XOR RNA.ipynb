{
 "cells": [
  {
   "cell_type": "code",
   "execution_count": 3,
   "metadata": {},
   "outputs": [],
   "source": [
    "import numpy as np"
   ]
  },
  {
   "cell_type": "code",
   "execution_count": null,
   "metadata": {},
   "outputs": [
    {
     "name": "stdout",
     "output_type": "stream",
     "text": [
      "Error: 0.4964100319027255\n",
      "Output pos entrenamiento\n",
      "[[0.00702213]\n",
      " [0.99100952]\n",
      " [0.99215162]\n",
      " [0.01047911]]\n"
     ]
    }
   ],
   "source": [
    "def sigmoid(x, deriv=False):\n",
    "    if deriv:\n",
    "        return x * (1 - x)\n",
    "    return 1 / (1 + np.exp(-x))\n",
    "\n",
    "#input data A, B, X\n",
    "X = np.array([\n",
    "    [0,0,1],\n",
    "    [0,1,1],\n",
    "    [1,0,1],\n",
    "    [1,1,1]\n",
    "])\n",
    "\n",
    "#Output data Q\n",
    "y = np.array([\n",
    "    [0],\n",
    "    [1],\n",
    "    [1],\n",
    "    [0]\n",
    "])\n",
    "\n",
    "#setea el generador de num. aleatorios con semilla conocida = 1\n",
    "np.random.seed(1)\n",
    "\n",
    "#capa1 <-- sipnasis0 --> capa2 <-- sinapsis1 --> capa3\n",
    "n_layers = 3\n",
    "n_connections = 4\n",
    "n_outputs = 1\n",
    "\n",
    "#A [n,n,n,n]\n",
    "#B [n,n,n,n]\n",
    "#X [n,n,n,n]\n",
    "\n",
    "syn0 = 2 * np.random.random((n_layers, n_connections)) - 1\n",
    "\n",
    "#Matriz de sipnasis 1, conecta el layer 1 con el layer 2\n",
    "#Q\n",
    "#[n]\n",
    "#[n]\n",
    "#[n]\n",
    "#[n]\n",
    "\n",
    "syn1 = 2 * np.random.random((n_connections, n_outputs)) - 1\n",
    "\n",
    "#Etapa de entranamiento sobre 60000 iteraciones y cada 10000 mostramos la reduccion del error\n",
    "n_trainning = 10000\n",
    "n_error_debug = 10000\n",
    "\n",
    "for j in range(n_trainning):\n",
    "    layer0 = X\n",
    "    layer1 = sigmoid(np.dot(layer0, syn0))\n",
    "    layer2 = sigmoid(np.dot(layer1, syn1))\n",
    "\n",
    "    layer2_err = y - layer2\n",
    "\n",
    "    if (j % n_error_debug) == 0:\n",
    "        print (\"Error: \" + str(np.mean(np.abs(layer2_err))))\n",
    "\n",
    "    layer2_delta = layer2_err * sigmoid(layer2, deriv=True)\n",
    "    layer1_err = layer2_delta.dot(syn1.T)\n",
    "    layer1_delta = layer1_err * sigmoid(layer1, deriv=True)\n",
    "\n",
    "    #actualiza el weigth (peso), algoritmo pradient descent\n",
    "\n",
    "    syn1 += layer1.T.dot(layer2_delta)\n",
    "    syn0 += layer0.T.dot(layer1_delta)\n",
    "\n",
    "#Finalmente mostramos el resultado\n",
    "print(\"Output pos entrenamiento\")\n",
    "print (layer2)"
   ]
  },
  {
   "cell_type": "code",
   "execution_count": null,
   "metadata": {},
   "outputs": [],
   "source": []
  }
 ],
 "metadata": {
  "kernelspec": {
   "display_name": "Python 3",
   "language": "python",
   "name": "python3"
  },
  "language_info": {
   "codemirror_mode": {
    "name": "ipython",
    "version": 3
   },
   "file_extension": ".py",
   "mimetype": "text/x-python",
   "name": "python",
   "nbconvert_exporter": "python",
   "pygments_lexer": "ipython3",
   "version": "3.13.0"
  }
 },
 "nbformat": 4,
 "nbformat_minor": 2
}
